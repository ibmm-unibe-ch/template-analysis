{
 "cells": [
  {
   "cell_type": "markdown",
   "id": "807e1921-6d3b-40f3-a496-5a37b0838ab1",
   "metadata": {},
   "source": [
    "# Find hits in PDB\n",
    "## Import libraries"
   ]
  },
  {
   "cell_type": "code",
   "execution_count": 1,
   "id": "be8dee4a-0ab9-44ae-b7ab-0154eb6cdf45",
   "metadata": {},
   "outputs": [
    {
     "name": "stderr",
     "output_type": "stream",
     "text": [
      "/tmp/ipykernel_1342282/4080736814.py:1: DeprecationWarning: \n",
      "Pyarrow will become a required dependency of pandas in the next major release of pandas (pandas 3.0),\n",
      "(to allow more performant data types, such as the Arrow string type, and better interoperability with other libraries)\n",
      "but was not found to be installed on your system.\n",
      "If this would cause problems for you,\n",
      "please provide us feedback at https://github.com/pandas-dev/pandas/issues/54466\n",
      "        \n",
      "  import pandas as pd\n"
     ]
    }
   ],
   "source": [
    "import pandas as pd"
   ]
  },
  {
   "cell_type": "markdown",
   "id": "5a2bbbbf-6803-49ba-bed8-6a0689122ee6",
   "metadata": {},
   "source": [
    "## Load data and count"
   ]
  },
  {
   "cell_type": "code",
   "execution_count": 2,
   "id": "bedf5f53-f7f8-437b-8910-8384e7be56c2",
   "metadata": {},
   "outputs": [
    {
     "name": "stdout",
     "output_type": "stream",
     "text": [
      "We queried 37 sequences.\n",
      "We found 31 fitting sequences.\n"
     ]
    }
   ],
   "source": [
    "# generated from bash_scripts/find_PDB70_hits.sh\n",
    "df = pd.read_csv(\"/data/jgut/template-analysis/PDB_70_CAMEO.tsv\", sep=\"\\t\", names = [\"query\", \"hit\", \"identity\", \"coverage\" ])\n",
    "print(f'We queried {len(df[\"query\"].unique())} sequences.')\n",
    "print(f'We found {len(df[(df.identity<70) & (df.identity>30) & (df.coverage>0.8)][\"query\"].unique())} fitting sequences.')"
   ]
  },
  {
   "cell_type": "markdown",
   "id": "3f1b58a8-6e03-494d-adcf-895bac71483e",
   "metadata": {},
   "source": [
    "## Print table of hits"
   ]
  },
  {
   "cell_type": "code",
   "execution_count": 3,
   "id": "9b45e62c-b101-4cc8-bf2a-17174f6cc544",
   "metadata": {},
   "outputs": [
    {
     "data": {
      "text/plain": [
       "'\\\\begin{tabular}{llrr}\\n\\\\toprule\\n & hit & identity & coverage \\\\\\\\\\nquery &  &  &  \\\\\\\\\\n\\\\midrule\\n\\\\textbf{8QJ5A} & 3vsr_A & 38.100000 & 0.956000 \\\\\\\\\\n\\\\textbf{8QLUA} & 7njh_A & 69.800000 & 1.000000 \\\\\\\\\\n\\\\textbf{8RIUC} & 1ytl_A & 45.600000 & 0.983000 \\\\\\\\\\n\\\\textbf{8RIUD} & 3cf4_A & 57.800000 & 0.993000 \\\\\\\\\\n\\\\textbf{8ROHA} & 6zz6_B & 47.800000 & 0.981000 \\\\\\\\\\n\\\\textbf{8S4HA} & 4f9l_D & 69.900000 & 1.000000 \\\\\\\\\\n\\\\textbf{8VK9D} & 6d68_C & 69.900000 & 1.000000 \\\\\\\\\\n\\\\textbf{8VZID} & 6xn8_A & 42.400000 & 0.991000 \\\\\\\\\\n\\\\textbf{8W14A} & 2fsx_A & 40.300000 & 0.816000 \\\\\\\\\\n\\\\textbf{8W9UA} & 3l8u_A & 53.500000 & 0.967000 \\\\\\\\\\n\\\\textbf{8WC0B} & 6lhx_A & 49.700000 & 0.981000 \\\\\\\\\\n\\\\textbf{8WCFA} & 6lhy_B & 38.100000 & 0.831000 \\\\\\\\\\n\\\\textbf{8WCGC} & 6z1z_A & 69.900000 & 1.000000 \\\\\\\\\\n\\\\textbf{8WDMB} & 2ogt_A & 58.700000 & 0.986000 \\\\\\\\\\n\\\\textbf{8WDQA} & 6tqo_T & 55.700000 & 0.974000 \\\\\\\\\\n\\\\textbf{8WE5A} & 5yh4_A & 48.400000 & 0.984000 \\\\\\\\\\n\\\\textbf{8WEOC} & 5ocl_A & 69.100000 & 0.952000 \\\\\\\\\\n\\\\textbf{8WEUA} & 3r44_A & 37.500000 & 0.996000 \\\\\\\\\\n\\\\textbf{8WFHE} & 8dce_H & 63.700000 & 1.000000 \\\\\\\\\\n\\\\textbf{8WKCA} & 7v8o_A & 52.700000 & 0.987000 \\\\\\\\\\n\\\\textbf{8WL1A} & 2ew2_A & 43.600000 & 0.990000 \\\\\\\\\\n\\\\textbf{8WZCA} & 3v32_B & 58.500000 & 0.975000 \\\\\\\\\\n\\\\textbf{8XYVA} & 5cwm_A & 31.900000 & 0.859000 \\\\\\\\\\n\\\\textbf{8YJOA} & 1r8w_A & 44.200000 & 0.997000 \\\\\\\\\\n\\\\textbf{8Z4QA} & 7y3w_A & 30.200000 & 0.922000 \\\\\\\\\\n\\\\textbf{8ZJ5A} & 4aty_A & 45.500000 & 0.965000 \\\\\\\\\\n\\\\textbf{9AUEA} & 6cbk_A & 34.500000 & 0.957000 \\\\\\\\\\n\\\\textbf{9CELD} & 5d3z_A & 42.600000 & 0.985000 \\\\\\\\\\n\\\\textbf{9DDYA} & 4lfe_A & 54.100000 & 0.975000 \\\\\\\\\\n\\\\textbf{9J91A} & 6ee5_A & 33.100000 & 0.969000 \\\\\\\\\\n\\\\textbf{9J9AA} & 5c2z_A & 67.000000 & 0.972000 \\\\\\\\\\n\\\\bottomrule\\n\\\\end{tabular}\\n'"
      ]
     },
     "execution_count": 3,
     "metadata": {},
     "output_type": "execute_result"
    }
   ],
   "source": [
    "df[(df.identity<70) & (df.identity>30) & (df.coverage>0.8)].sort_values([\"identity\", \"coverage\"], ascending=[False, False]).groupby(\"query\").first().to_latex(escape=False, bold_rows=True)"
   ]
  },
  {
   "cell_type": "markdown",
   "id": "b7731c58-287c-44da-8124-c0b3e1ad617b",
   "metadata": {},
   "source": [
    "## Make input for bash_scripts/download_PDB70_hits.sh"
   ]
  },
  {
   "cell_type": "code",
   "execution_count": 4,
   "id": "700b7f03-053d-4d40-98a3-d908b4e4fedb",
   "metadata": {},
   "outputs": [
    {
     "data": {
      "text/plain": [
       "['8QJ5A',\n",
       " '8QLUA',\n",
       " '8RIUC',\n",
       " '8RIUD',\n",
       " '8ROHA',\n",
       " '8S4HA',\n",
       " '8VK9D',\n",
       " '8VZID',\n",
       " '8W14A',\n",
       " '8W9UA',\n",
       " '8WC0B',\n",
       " '8WCFA',\n",
       " '8WCGC',\n",
       " '8WDMB',\n",
       " '8WDQA',\n",
       " '8WE5A',\n",
       " '8WEOC',\n",
       " '8WEUA',\n",
       " '8WFHE',\n",
       " '8WKCA',\n",
       " '8WL1A',\n",
       " '8WZCA',\n",
       " '8XYVA',\n",
       " '8YJOA',\n",
       " '8Z4QA',\n",
       " '8ZJ5A',\n",
       " '9AUEA',\n",
       " '9CELD',\n",
       " '9DDYA',\n",
       " '9J91A',\n",
       " '9J9AA']"
      ]
     },
     "execution_count": 4,
     "metadata": {},
     "output_type": "execute_result"
    }
   ],
   "source": [
    "list(df[(df.identity<70) & (df.identity>30) & (df.coverage>0.8)].sort_values([\"identity\", \"coverage\"], ascending=[False, False]).groupby(\"query\").first().index)"
   ]
  },
  {
   "cell_type": "code",
   "execution_count": 5,
   "id": "291b5fad-8169-45e2-b1c2-f73b8bd48b5a",
   "metadata": {},
   "outputs": [
    {
     "data": {
      "text/plain": [
       "['3vsr_A',\n",
       " '7njh_A',\n",
       " '1ytl_A',\n",
       " '3cf4_A',\n",
       " '6zz6_B',\n",
       " '4f9l_D',\n",
       " '6d68_C',\n",
       " '6xn8_A',\n",
       " '2fsx_A',\n",
       " '3l8u_A',\n",
       " '6lhx_A',\n",
       " '6lhy_B',\n",
       " '6z1z_A',\n",
       " '2ogt_A',\n",
       " '6tqo_T',\n",
       " '5yh4_A',\n",
       " '5ocl_A',\n",
       " '3r44_A',\n",
       " '8dce_H',\n",
       " '7v8o_A',\n",
       " '2ew2_A',\n",
       " '3v32_B',\n",
       " '5cwm_A',\n",
       " '1r8w_A',\n",
       " '7y3w_A',\n",
       " '4aty_A',\n",
       " '6cbk_A',\n",
       " '5d3z_A',\n",
       " '4lfe_A',\n",
       " '6ee5_A',\n",
       " '5c2z_A']"
      ]
     },
     "execution_count": 5,
     "metadata": {},
     "output_type": "execute_result"
    }
   ],
   "source": [
    "list(df[(df.identity<70) & (df.identity>30) & (df.coverage>0.8)].sort_values([\"identity\", \"coverage\"], ascending=[False, False]).groupby(\"query\").first().hit)"
   ]
  }
 ],
 "metadata": {
  "kernelspec": {
   "display_name": "Python 3 (ipykernel)",
   "language": "python",
   "name": "python3"
  },
  "language_info": {
   "codemirror_mode": {
    "name": "ipython",
    "version": 3
   },
   "file_extension": ".py",
   "mimetype": "text/x-python",
   "name": "python",
   "nbconvert_exporter": "python",
   "pygments_lexer": "ipython3",
   "version": "3.10.8"
  }
 },
 "nbformat": 4,
 "nbformat_minor": 5
}
